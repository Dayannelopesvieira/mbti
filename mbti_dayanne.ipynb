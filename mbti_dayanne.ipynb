{
 "cells": [
  {
   "cell_type": "markdown",
   "id": "6bc0a56c",
   "metadata": {},
   "source": [
    "## Import libraries\n",
    "#\n"
   ]
  },
  {
   "cell_type": "code",
   "execution_count": 1,
   "id": "41a83000",
   "metadata": {},
   "outputs": [
    {
     "name": "stderr",
     "output_type": "stream",
     "text": [
      "[nltk_data] Downloading package wordnet to\n",
      "[nltk_data]     C:\\Users\\dvieiralopes\\AppData\\Roaming\\nltk_data...\n",
      "[nltk_data]   Package wordnet is already up-to-date!\n"
     ]
    }
   ],
   "source": [
    "# Data Analysis\n",
    "import pandas as pd\n",
    "import numpy as np\n",
    "from numpy import asarray\n",
    "from numpy import savetxt\n",
    "from numpy import loadtxt\n",
    "import pickle as pkl\n",
    "from scipy import sparse\n",
    "\n",
    "# Data Visualization\n",
    "import seaborn as sns\n",
    "import matplotlib.pyplot as plt\n",
    "import wordcloud\n",
    "from wordcloud import WordCloud, STOPWORDS\n",
    "\n",
    "# Text Processing\n",
    "import re\n",
    "import itertools\n",
    "import string\n",
    "import collections\n",
    "from collections import Counter\n",
    "from sklearn.preprocessing import LabelEncoder\n",
    "import nltk\n",
    "from nltk.classify import NaiveBayesClassifier\n",
    "from nltk.corpus import stopwords\n",
    "from nltk import word_tokenize\n",
    "from nltk.tokenize import word_tokenize\n",
    "from nltk.stem import PorterStemmer, WordNetLemmatizer\n",
    "\n",
    "# Machine Learning packages\n",
    "import sklearn\n",
    "from sklearn.feature_extraction.text import CountVectorizer\n",
    "from sklearn.feature_extraction.text import TfidfVectorizer\n",
    "from sklearn.feature_extraction.text import TfidfTransformer\n",
    "import sklearn.cluster as cluster\n",
    "from sklearn.manifold import TSNE\n",
    "\n",
    "# Model training and evaluation\n",
    "from sklearn.model_selection import train_test_split\n",
    "\n",
    "#Models\n",
    "from sklearn.linear_model import LogisticRegression\n",
    "from sklearn.linear_model import SGDClassifier\n",
    "from sklearn.neighbors import KNeighborsClassifier\n",
    "from sklearn.naive_bayes import GaussianNB\n",
    "from sklearn.svm import SVC\n",
    "from sklearn.ensemble import RandomForestClassifier, GradientBoostingClassifier\n",
    "from xgboost import XGBClassifier\n",
    "from xgboost import plot_importance\n",
    "\n",
    "#Metrics\n",
    "from sklearn.metrics import r2_score, mean_squared_error, mean_absolute_error, accuracy_score, balanced_accuracy_score\n",
    "from sklearn.metrics import precision_score, recall_score, f1_score, multilabel_confusion_matrix, confusion_matrix\n",
    "from sklearn.metrics import classification_report\n",
    "\n",
    "from sklearn.metrics import classification_report\n",
    "import utils\n",
    "\n",
    "import numpy as np\n",
    "import pandas as pd\n",
    "import matplotlib.pylab as plt\n",
    "import seaborn as sns#Understanding my variables\n",
    "import re\n",
    "import unicodedata\n",
    "\n",
    "import pandas as pd\n",
    "import pickle\n",
    "from scipy import sparse\n",
    "import numpy as np\n",
    "import scipy\n",
    "import nltk\n",
    "from sklearn.feature_extraction.text import TfidfVectorizer\n",
    "from sklearn.metrics.pairwise import cosine_similarity\n",
    "import warnings\n",
    "\n",
    "from sklearn.base import BaseEstimator, TransformerMixin\n",
    "import pandas as pd\n",
    "from sklearn.feature_extraction import text as text_extraction\n",
    "import pandas as pd\n",
    "import nltk\n",
    "import re\n",
    "from nltk.tokenize import word_tokenize, wordpunct_tokenize\n",
    "from nltk.stem import SnowballStemmer\n",
    "from nltk.stem import WordNetLemmatizer\n",
    "import nltk\n",
    "import sys\n",
    "import traceback\n",
    "from sklearn.cluster import MiniBatchKMeans\n",
    "from sklearn import preprocessing\n",
    "\n",
    "\n",
    "import string\n",
    "import re\n",
    "import unicodedata\n",
    "import nltk\n",
    "from nltk.corpus import stopwords\n",
    "from nltk.stem.porter import PorterStemmer\n",
    "from nltk.stem import WordNetLemmatizer\n",
    "\n",
    "from sklearn.model_selection import train_test_split\n",
    "from sklearn.pipeline import make_pipeline\n",
    "from sklearn.preprocessing import LabelEncoder, OrdinalEncoder, StandardScaler\n",
    "from tensorflow.keras.models import Sequential\n",
    "from tensorflow.keras.layers import Dense ,Dropout\n",
    "from tensorflow.keras import metrics\n",
    "from sklearn.metrics import confusion_matrix, classification_report\n",
    "from sklearn.feature_selection import VarianceThreshold\n",
    "\n",
    "from sklearn.model_selection import train_test_split\n",
    "from sklearn.preprocessing import StandardScaler\n",
    "from sklearn.ensemble import RandomForestClassifier\n",
    "from sklearn.metrics import confusion_matrix\n",
    "from sklearn.metrics import accuracy_score\n",
    "\n",
    "from sklearn.model_selection import train_test_split\n",
    "from keras.layers.convolutional import Conv1D\n",
    "from tensorflow.keras.layers import MaxPooling1D\n",
    "from  keras.layers import Flatten\n",
    "\n",
    "# Ignore noise warning\n",
    "import warnings\n",
    "warnings.filterwarnings(\"ignore\")"
   ]
  },
  {
   "cell_type": "markdown",
   "id": "720324fe",
   "metadata": {},
   "source": [
    "## Load data"
   ]
  },
  {
   "cell_type": "code",
   "execution_count": 2,
   "id": "a127614a",
   "metadata": {},
   "outputs": [
    {
     "name": "stdout",
     "output_type": "stream",
     "text": [
      "shape of the raw data (8675, 2)\n",
      "name of the columns Index(['type', 'posts'], dtype='object')\n"
     ]
    },
    {
     "data": {
      "text/html": [
       "<div>\n",
       "<style scoped>\n",
       "    .dataframe tbody tr th:only-of-type {\n",
       "        vertical-align: middle;\n",
       "    }\n",
       "\n",
       "    .dataframe tbody tr th {\n",
       "        vertical-align: top;\n",
       "    }\n",
       "\n",
       "    .dataframe thead th {\n",
       "        text-align: right;\n",
       "    }\n",
       "</style>\n",
       "<table border=\"1\" class=\"dataframe\">\n",
       "  <thead>\n",
       "    <tr style=\"text-align: right;\">\n",
       "      <th></th>\n",
       "      <th>type</th>\n",
       "      <th>posts</th>\n",
       "    </tr>\n",
       "  </thead>\n",
       "  <tbody>\n",
       "    <tr>\n",
       "      <th>0</th>\n",
       "      <td>INFJ</td>\n",
       "      <td>'http://www.youtube.com/watch?v=qsXHcwe3krw|||...</td>\n",
       "    </tr>\n",
       "    <tr>\n",
       "      <th>1</th>\n",
       "      <td>ENTP</td>\n",
       "      <td>'I'm finding the lack of me in these posts ver...</td>\n",
       "    </tr>\n",
       "    <tr>\n",
       "      <th>2</th>\n",
       "      <td>INTP</td>\n",
       "      <td>'Good one  _____   https://www.youtube.com/wat...</td>\n",
       "    </tr>\n",
       "    <tr>\n",
       "      <th>3</th>\n",
       "      <td>INTJ</td>\n",
       "      <td>'Dear INTP,   I enjoyed our conversation the o...</td>\n",
       "    </tr>\n",
       "    <tr>\n",
       "      <th>4</th>\n",
       "      <td>ENTJ</td>\n",
       "      <td>'You're fired.|||That's another silly misconce...</td>\n",
       "    </tr>\n",
       "  </tbody>\n",
       "</table>\n",
       "</div>"
      ],
      "text/plain": [
       "   type                                              posts\n",
       "0  INFJ  'http://www.youtube.com/watch?v=qsXHcwe3krw|||...\n",
       "1  ENTP  'I'm finding the lack of me in these posts ver...\n",
       "2  INTP  'Good one  _____   https://www.youtube.com/wat...\n",
       "3  INTJ  'Dear INTP,   I enjoyed our conversation the o...\n",
       "4  ENTJ  'You're fired.|||That's another silly misconce..."
      ]
     },
     "execution_count": 2,
     "metadata": {},
     "output_type": "execute_result"
    }
   ],
   "source": [
    "df = pd.read_csv('mbti_1.csv')\n",
    "#get the shape of your raw data\n",
    "print('shape of the raw data',df.shape)\n",
    "print('name of the columns',df.columns)\n",
    "\n",
    "column='posts'\n",
    "df.head()"
   ]
  },
  {
   "cell_type": "markdown",
   "id": "40aba520",
   "metadata": {},
   "source": [
    "## Missing values"
   ]
  },
  {
   "cell_type": "code",
   "execution_count": 3,
   "id": "d5ed4619",
   "metadata": {},
   "outputs": [
    {
     "data": {
      "text/plain": [
       "type     0\n",
       "posts    0\n",
       "dtype: int64"
      ]
     },
     "execution_count": 3,
     "metadata": {},
     "output_type": "execute_result"
    }
   ],
   "source": [
    "df.isnull().sum()"
   ]
  },
  {
   "cell_type": "markdown",
   "id": "7e7ac293",
   "metadata": {},
   "source": [
    "## Cleaning"
   ]
  },
  {
   "cell_type": "code",
   "execution_count": 4,
   "id": "25482ba4",
   "metadata": {},
   "outputs": [],
   "source": [
    "def cleaning(df, remove_special=True):\n",
    "    texts = df['posts'].copy()\n",
    "    labels = df['type'].copy()\n",
    "\n",
    "    #delete the websites and links\n",
    "    df[\"posts\"] = df[\"posts\"].apply(lambda x: re.sub(r'https?:\\/\\/.*?[\\s+]', '', x.replace(\"|\",\" \") + \" \"))\n",
    "\n",
    "     #keep the information of end of sentences\n",
    "    df[\"posts\"] = df[\"posts\"].apply(lambda x: re.sub(r'\\.', '  tokendot ', x + \" \"))\n",
    "    df[\"posts\"] = df[\"posts\"].apply(lambda x: re.sub(r'\\?', ' tokenquestion ', x + \" \"))\n",
    "    df[\"posts\"] = df[\"posts\"].apply(lambda x: re.sub(r'!', ' tokenexs ', x + \" \"))\n",
    "\n",
    "    #strip puctuation\n",
    "    df[\"posts\"] = df[\"posts\"].apply(lambda x: re.sub(r'[\\.+]', \".\",x))\n",
    "\n",
    "    #remove multiple fullstops\n",
    "    df[\"posts\"] = df[\"posts\"].apply(lambda x: re.sub(r'[^\\w\\s]','',x))\n",
    "\n",
    "    #remove Non-words\n",
    "    df[\"posts\"] = df[\"posts\"].apply(lambda x: re.sub(r'[^a-zA-Z\\s]','',x))\n",
    "\n",
    "    #convert posts to lowercase\n",
    "    df[\"posts\"] = df[\"posts\"].apply(lambda x: x.lower())\n",
    "\n",
    "    #remove multiple letter repeating words\n",
    "    df[\"posts\"] = df[\"posts\"].apply(lambda x: re.sub(r'([a-z])\\1{2,}[\\s|\\w]*','',x)) \n",
    "\n",
    "    #remove very short or long words\n",
    "    df[\"posts\"] = df[\"posts\"].apply(lambda x: re.sub(r'(\\b\\w{0,3})?\\b','',x)) \n",
    "    df[\"posts\"] = df[\"posts\"].apply(lambda x: re.sub(r'(\\b\\w{30,1000})?\\b','',x))\n",
    "\n",
    "    #Remove the words of mbti \n",
    "    if remove_special:\n",
    "        pers_types = ['INFP' ,'INFJ', 'INTP', 'INTJ', 'ENTP', 'ENFP', 'ISTP' ,'ISFP' ,'ENTJ', 'ISTJ','ENFJ', 'ISFJ' ,'ESTP', 'ESFP' ,'ESFJ' ,'ESTJ']\n",
    "        pers_types = [p.lower() for p in pers_types]\n",
    "        p = re.compile(\"(\" + \"|\".join(pers_types) + \")\")\n",
    "\n",
    "    return df\n",
    "\n",
    "clean_df = cleaning(df)"
   ]
  },
  {
   "cell_type": "markdown",
   "id": "095d12f2",
   "metadata": {},
   "source": [
    "## Analysis"
   ]
  },
  {
   "cell_type": "code",
   "execution_count": 5,
   "id": "6b05d9c1",
   "metadata": {},
   "outputs": [
    {
     "data": {
      "text/plain": [
       "'  your time travel  raise   hououin kyouma tokenexs   buahahahaha tokenexs   watched  animesubbed  loved   tokendot      glad this thread came back  life  tokendot    migrated over   witcher replaying  prep  witcher  back    skyrimgot  bunch   mods saints   thirdso amazing   tokendot   tokendot   tokendot     bunch  people already  here  tokenquestion     spends  minutes desperately looking   wallet which  just      down somewhere  tokendot   then  look down   right hand  tokendot     holding  wallet  tokendot   sometimes someone will   tokendot   tokendot   tokendot    harrison ford  tokendot crazy     best   send lucas  spielberg  message after shoehorning ancient aliens into  indiana jones franchise  tokendot       think  know where this  heading  tokendot      interneting correctly right tokenquestion      what tokenquestion     hasnt been  probably wont  released   consoles  tokendot   anyways this kind  dumbing down  largely  result  people  high positions   corporate ladder making  tokendot   tokendot   tokendot    mostly   experience with  small amount  curiosity  family pressure mixed   tokendot     know  probably should have posted  this thread sooner     busy suplexing  shark wearing  bolo   tokendot        wearing  bolo  tokenquestion      shark tokenquestion   answer   tokendot     tokendot   tokendot   tokendot        honest  havent seen  examples  this outside   simpsons  anything  seth macfarlane  tokendot      lulz clearly  tokendot ninja    enjoyed   tokendot    fight scenes really   notch   while  rest   movie kind  forgettable  wasnt   tokendot     like great visuals then youll have  good time  tokendot         tokendot   tokendot   tokendot     dang   tokendot    kind  surprised   honest although   tend  look  peoples eyes when  talk  them  tokendot      tokendot  yeah with  variety  social media nowadays  would  easy  stay  touch  tokendot   besides   like  never  able  visit them  tokendot     tokendot    wouldnt shoot either    tokendot    escape   tokendot   tokendot   tokendot    original    fellow americans   what your country      what     your country  tokendot   translated   would like   what  tokendot   original    fine  tokendot   tokendot   tokendot    this site  good    laughs    online translators  completely skew  meaning   quote  tokendot   basically  give   quote    bing  google translate  several times then  tokendot   tokendot   tokendot    snip   make some good points regarding linearity  player choice   response  these  tokendot   tokendot   tokendot    tokendot   tokendot   tokendot      board games tokenexs    enjoy playing  dragon  cosmic encounters munchkin  battlestar galactica with  friends  tokendot     here going    august  tokendot     subject  feeling  anyone ever  back  your hometownwherever  grew      changed  kids   teens   tokendot   feel like this tokenquestion    tokendot   tokendot   tokendot    occasionally   down  wonder   this even  thing tokenquestion   people shouldnt  discriminated against based  what gender theyre attracted   tokendot     story  tokendot    real nobrainer  tokendot     honestly dont think  graphics need   anywhere  tokendot   there  much more important things  improve  tokendot   they need  stop simplifying everythingstop using focus groups composed   frat boys  tokendot   tokendot   tokendot     bunch  games  tokendot    main ones right   civilization   witcher  deus  human revolution  tokendot       keep  tight  tokendot    yeah  struggled through that   blowing through    thermal detonators  frag grenades  well    arkanian  mandalorian shields  tokendot       recall correctly  managed    tokendot   tokendot   tokendot     been pretty careful over  years  worst pain  been   when   used tweezers  take   inch long splinterwood chip  from under  skin   bottom   foot  tokendot      tokendot   tokendot   tokendot     thought process here    shes played    kotor games  tokendot      tokenexs   kitteh    second this  tokendot     would also dual wield though  colors would  purple  cyan  tokendot   also  wasnt this threador  thread really about  twilek jedi from  start tokenquestion     sure  someone  already posted this  happiness  good bank account  good cook   good digestion  tokendot  jean jacques rousseau  seems pretty accurate    tokendot    this  tokendot   balls    have protective coating tokenquestion   then there  those times when youre trying     stream splits     otherwise deflected from  toilet bowl  tokendot   more  tokendot   tokendot   tokendot    pfft  tokendot      actually post  such  whimsical thread  tokendot    fart  your general direction tokenexs    wait  thought     tokendot    carsomyr   legendary claymore from  forgotten realmsdd  imagine thats what inspired   tokendot    that  tokendot    tokendot  awesome tokenexs  tokenexs  tokenexs  tokenexs kittehcrazy  regains composure many many thanks dear   tokendot    wazz'"
      ]
     },
     "execution_count": 5,
     "metadata": {},
     "output_type": "execute_result"
    }
   ],
   "source": [
    "clean_df.posts[1200]"
   ]
  },
  {
   "cell_type": "code",
   "execution_count": 6,
   "id": "065a868c",
   "metadata": {},
   "outputs": [
    {
     "data": {
      "image/png": "[encoded data removed]",
      "text/plain": [
       "<Figure size 432x288 with 1 Axes>"
      ]
     },
     "metadata": {
      "needs_background": "light"
     },
     "output_type": "display_data"
    }
   ],
   "source": [
    "fig = plt.figure(figsize=(6,4))\n",
    "clean_df.groupby('type').posts.count().plot.bar(ylim=0)\n",
    "plt.show()"
   ]
  },
  {
   "cell_type": "markdown",
   "id": "b1663655",
   "metadata": {},
   "source": [
    "\"\"\"Each user use the social media in a different way posting more or less , analysing the quantity of posts per user we have this the description bellow. Also in the boxplot is clean it has many outliers and the max is 50 posts per person\"\"\""
   ]
  },
  {
   "cell_type": "markdown",
   "id": "4a20c4fe",
   "metadata": {},
   "source": [
    "##### check the quantity of posts "
   ]
  },
  {
   "cell_type": "code",
   "execution_count": 10,
   "id": "2b083ec6",
   "metadata": {},
   "outputs": [
    {
     "data": {
      "text/html": [
       "<div>\n",
       "<style scoped>\n",
       "    .dataframe tbody tr th:only-of-type {\n",
       "        vertical-align: middle;\n",
       "    }\n",
       "\n",
       "    .dataframe tbody tr th {\n",
       "        vertical-align: top;\n",
       "    }\n",
       "\n",
       "    .dataframe thead th {\n",
       "        text-align: right;\n",
       "    }\n",
       "</style>\n",
       "<table border=\"1\" class=\"dataframe\">\n",
       "  <thead>\n",
       "    <tr style=\"text-align: right;\">\n",
       "      <th></th>\n",
       "      <th>quantity_posts</th>\n",
       "    </tr>\n",
       "  </thead>\n",
       "  <tbody>\n",
       "    <tr>\n",
       "      <th>count</th>\n",
       "      <td>8675.000000</td>\n",
       "    </tr>\n",
       "    <tr>\n",
       "      <th>mean</th>\n",
       "      <td>46.731066</td>\n",
       "    </tr>\n",
       "    <tr>\n",
       "      <th>std</th>\n",
       "      <td>6.608398</td>\n",
       "    </tr>\n",
       "    <tr>\n",
       "      <th>min</th>\n",
       "      <td>1.000000</td>\n",
       "    </tr>\n",
       "    <tr>\n",
       "      <th>25%</th>\n",
       "      <td>46.000000</td>\n",
       "    </tr>\n",
       "    <tr>\n",
       "      <th>50%</th>\n",
       "      <td>49.000000</td>\n",
       "    </tr>\n",
       "    <tr>\n",
       "      <th>75%</th>\n",
       "      <td>50.000000</td>\n",
       "    </tr>\n",
       "    <tr>\n",
       "      <th>max</th>\n",
       "      <td>89.000000</td>\n",
       "    </tr>\n",
       "  </tbody>\n",
       "</table>\n",
       "</div>"
      ],
      "text/plain": [
       "       quantity_posts\n",
       "count     8675.000000\n",
       "mean        46.731066\n",
       "std          6.608398\n",
       "min          1.000000\n",
       "25%         46.000000\n",
       "50%         49.000000\n",
       "75%         50.000000\n",
       "max         89.000000"
      ]
     },
     "execution_count": 10,
     "metadata": {},
     "output_type": "execute_result"
    }
   ],
   "source": [
    "\n",
    "def reg_find(reg, replace, phrase):\n",
    "    if re.findall(reg, phrase) is not None:\n",
    "        phrase = re.sub(reg, replace, phrase)\n",
    "    return phrase\n",
    "    \n",
    "def add_regex(data,column):\n",
    "    \"\"\"remove or change strings as necessary\"\"\"\n",
    "    pattern=r\"((https*://|www|http*://)(.*?)[\\s+\\n])\"\n",
    "    data[column+'_first_clean']= data[column].apply(lambda x: reg_find(pattern, r'', x))\n",
    "    pattern = r'[0-9]|perc|'\n",
    "    return data\n",
    "column= 'posts'\n",
    "df = pd.read_csv('mbti_1.csv')\n",
    "# first clean only the posts columns deleting the https and numbers using regex\n",
    "df=add_regex(df,column)\n",
    "#second create a new column spliting the comments as different strings\n",
    "# Each row has many sentences from different platforms, that is why is better to split to have more information to extract\n",
    "df[column+'_second_clean_str']=df[column+'_first_clean'].apply(lambda x: x.strip().split('|||'))\n",
    "df['quantity_posts'] = df[column+'_second_clean_str'].apply(lambda x: len(x))\n",
    "\n",
    "df[['quantity_posts']].describe()"
   ]
  },
  {
   "cell_type": "code",
   "execution_count": 11,
   "id": "b7b0153b",
   "metadata": {},
   "outputs": [
    {
     "data": {
      "text/plain": [
       "<AxesSubplot:>"
      ]
     },
     "execution_count": 11,
     "metadata": {},
     "output_type": "execute_result"
    },
    {
     "data": {
      "image/png": "[encoded data removed]",
      "text/plain": [
       "<Figure size 432x288 with 1 Axes>"
      ]
     },
     "metadata": {
      "needs_background": "light"
     },
     "output_type": "display_data"
    }
   ],
   "source": [
    "df.boxplot('quantity_posts')"
   ]
  },
  {
   "cell_type": "code",
   "execution_count": 13,
   "id": "accfb300",
   "metadata": {},
   "outputs": [
    {
     "data": {
      "text/plain": [
       "<AxesSubplot:ylabel='Frequency'>"
      ]
     },
     "execution_count": 13,
     "metadata": {},
     "output_type": "execute_result"
    },
    {
     "data": {
      "image/png": "[encoded data removed]",
      "text/plain": [
       "<Figure size 576x288 with 1 Axes>"
      ]
     },
     "metadata": {
      "needs_background": "light"
     },
     "output_type": "display_data"
    }
   ],
   "source": [
    "### Frequency in the quantity of posts\n",
    "grouped=df.groupby(['type'])['quantity_posts'].sum().reset_index()\n",
    "\n",
    "grouped.plot(kind='hist', \n",
    "                      bins=20, figsize=(8,4), \n",
    "                      facecolor='grey',edgecolor='black')"
   ]
  },
  {
   "cell_type": "code",
   "execution_count": 14,
   "id": "9d35c61b",
   "metadata": {},
   "outputs": [
    {
     "data": {
      "image/png": "[encoded data removed]",
      "text/plain": [
       "<Figure size 576x360 with 1 Axes>"
      ]
     },
     "metadata": {
      "needs_background": "light"
     },
     "output_type": "display_data"
    }
   ],
   "source": [
    "vectorizer = TfidfVectorizer(ngram_range=(1,1),max_features=500)\n",
    "X_cluster = vectorizer.fit_transform(clean_df['posts'])\n",
    "    \n",
    "clusters =utils.get_clusters_kmeans(X_cluster,len(df.type.drop_duplicates()))\n",
    "utils.bar_split_text_per_clusters(clusters,clean_df,'posts')"
   ]
  },
  {
   "cell_type": "code",
   "execution_count": 16,
   "id": "63de6dbf",
   "metadata": {},
   "outputs": [
    {
     "data": {
      "text/plain": [
       "<AxesSubplot:>"
      ]
     },
     "execution_count": 16,
     "metadata": {},
     "output_type": "execute_result"
    },
    {
     "data": {
      "image/png": "[encoded data removed]",
      "text/plain": [
       "<Figure size 432x288 with 2 Axes>"
      ]
     },
     "metadata": {
      "needs_background": "light"
     },
     "output_type": "display_data"
    }
   ],
   "source": [
    "# calculate correlation matrix\n",
    "label_encoder = preprocessing.LabelEncoder()\n",
    "clean_df['type_num']= label_encoder.fit_transform(clean_df['type'])\n",
    "corr = clean_df[['type_num','clusters']].corr()# plot the heatmap\n",
    "sns.heatmap(corr, xticklabels=corr.columns, yticklabels=corr.columns, annot=True, cmap=sns.diverging_palette(220, 20, as_cmap=True))"
   ]
  },
  {
   "cell_type": "code",
   "execution_count": 18,
   "id": "9ceb0e07",
   "metadata": {},
   "outputs": [],
   "source": [
    "#remove post with lesss than a quantity of words\n",
    "min_words = 15\n",
    "clean_df[\"no. of. words\"] = clean_df[\"posts\"].apply(lambda x: len(re.findall(r'\\w+', x)))\n",
    "clean_df = clean_df[clean_df[\"no. of. words\"] >= min_words]"
   ]
  },
  {
   "cell_type": "markdown",
   "id": "27a74f6c",
   "metadata": {},
   "source": [
    "## Feature engineering"
   ]
  },
  {
   "cell_type": "code",
   "execution_count": 19,
   "id": "5fccaeaa",
   "metadata": {},
   "outputs": [],
   "source": [
    "## after try with some different features as quantoty of post, quantity of words, etc it was chose to use only the vectorizers "
   ]
  },
  {
   "cell_type": "markdown",
   "id": "c752fd87",
   "metadata": {},
   "source": [
    "### preparing x and y"
   ]
  },
  {
   "cell_type": "code",
   "execution_count": 20,
   "id": "f41abe81",
   "metadata": {},
   "outputs": [],
   "source": [
    "enc = LabelEncoder()\n",
    "clean_df['type of encoding'] = enc.fit_transform(clean_df['type'])\n",
    "\n",
    "target = clean_df['type of encoding'] "
   ]
  },
  {
   "cell_type": "markdown",
   "id": "6a219bfd",
   "metadata": {},
   "source": [
    "### vectorizer"
   ]
  },
  {
   "cell_type": "code",
   "execution_count": 21,
   "id": "61d18df1",
   "metadata": {},
   "outputs": [],
   "source": [
    "vect = CountVectorizer(stop_words='english',max_features=5000) \n",
    "train =  vect.fit_transform(clean_df[\"posts\"])"
   ]
  },
  {
   "cell_type": "code",
   "execution_count": 22,
   "id": "6a302754",
   "metadata": {},
   "outputs": [
    {
     "data": {
      "text/plain": [
       "5000"
      ]
     },
     "execution_count": 22,
     "metadata": {},
     "output_type": "execute_result"
    }
   ],
   "source": [
    "len(vect.get_feature_names())"
   ]
  },
  {
   "cell_type": "markdown",
   "id": "8ea0d04f",
   "metadata": {},
   "source": [
    "## training"
   ]
  },
  {
   "cell_type": "code",
   "execution_count": 23,
   "id": "0e58d347",
   "metadata": {},
   "outputs": [
    {
     "name": "stdout",
     "output_type": "stream",
     "text": [
      "(5079, 5000) (5079,) (3387, 5000) (3387,)\n"
     ]
    }
   ],
   "source": [
    "X_train, X_test, y_train, y_test = train_test_split(train, target, test_size=0.4, stratify=target, random_state=42)\n",
    "print ((X_train.shape),(y_train.shape),(X_test.shape),(y_test.shape))"
   ]
  },
  {
   "cell_type": "code",
   "execution_count": 34,
   "id": "6a3077a1",
   "metadata": {},
   "outputs": [],
   "source": [
    "data_list  = clean_df[['type','type of encoding']].drop_duplicates().sort_values('type of encoding')\n",
    "list_name_target = data_list['type'].tolist()\n",
    "list_number_target = data_list['type of encoding'].tolist()"
   ]
  },
  {
   "cell_type": "markdown",
   "id": "223d66c6",
   "metadata": {},
   "source": [
    "### model random forest"
   ]
  },
  {
   "cell_type": "code",
   "execution_count": 35,
   "id": "eaa63acd",
   "metadata": {},
   "outputs": [
    {
     "name": "stdout",
     "output_type": "stream",
     "text": [
      "Accuracy: 49.54%\n"
     ]
    }
   ],
   "source": [
    "accuracies = {}\n",
    "\n",
    "#Random Forest\n",
    "random_forest = RandomForestClassifier(n_estimators=100, random_state = 1)\n",
    "random_forest.fit(X_train, y_train)\n",
    "\n",
    "# make predictions for test data\n",
    "Y_pred = random_forest.predict(X_test)\n",
    "predictions = [round(value) for value in Y_pred]\n",
    "\n",
    "# evaluate predictions\n",
    "accuracy = accuracy_score(y_test, predictions)\n",
    "accuracies['Random Forest'] = accuracy* 100.0 \n",
    "print(\"Accuracy: %.2f%%\" % (accuracy * 100.0))"
   ]
  },
  {
   "cell_type": "code",
   "execution_count": 36,
   "id": "7f115467",
   "metadata": {},
   "outputs": [
    {
     "name": "stdout",
     "output_type": "stream",
     "text": [
      "              precision    recall  f1-score   support\n",
      "\n",
      "        ENFJ       0.00      0.00      0.00        73\n",
      "        ENFP       0.64      0.17      0.27       256\n",
      "        ENTJ       1.00      0.02      0.04        90\n",
      "        ENTP       0.67      0.32      0.44       267\n",
      "        ESFJ       0.00      0.00      0.00        17\n",
      "        ESFP       0.00      0.00      0.00        19\n",
      "        ESTJ       0.00      0.00      0.00        15\n",
      "        ESTP       0.00      0.00      0.00        35\n",
      "        INFJ       0.50      0.64      0.56       575\n",
      "        INFP       0.41      0.86      0.56       711\n",
      "        INTJ       0.60      0.49      0.54       430\n",
      "        INTP       0.57      0.62      0.60       514\n",
      "        ISFJ       0.00      0.00      0.00        66\n",
      "        ISFP       0.44      0.04      0.07       107\n",
      "        ISTJ       1.00      0.04      0.07        81\n",
      "        ISTP       0.76      0.21      0.33       131\n",
      "\n",
      "    accuracy                           0.50      3387\n",
      "   macro avg       0.41      0.21      0.22      3387\n",
      "weighted avg       0.53      0.50      0.44      3387\n",
      "\n"
     ]
    }
   ],
   "source": [
    "target_names=[str(x) for x in list_name_target]\n",
    "\n",
    "print(classification_report(y_test, Y_pred, target_names=target_names))\n",
    "#maybe it would be better to change the threshold in the classification report as the data is not balanced "
   ]
  },
  {
   "cell_type": "markdown",
   "id": "383910af",
   "metadata": {},
   "source": [
    "### xg boost"
   ]
  },
  {
   "cell_type": "code",
   "execution_count": 37,
   "id": "abf728bf",
   "metadata": {},
   "outputs": [
    {
     "name": "stdout",
     "output_type": "stream",
     "text": [
      "[14:16:46] WARNING: C:/Users/Administrator/workspace/xgboost-win64_release_1.4.0/src/learner.cc:1095: Starting in XGBoost 1.3.0, the default evaluation metric used with the objective 'multi:softprob' was changed from 'merror' to 'mlogloss'. Explicitly set eval_metric if you'd like to restore the old behavior.\n",
      "Accuracy: 58.67%\n"
     ]
    }
   ],
   "source": [
    "#XG boost Classifier\n",
    "xgb = XGBClassifier(max_depth=5,n_estimators=50,learning_rate=0.1)\n",
    "xgb.fit(X_train,y_train)\n",
    "\n",
    "Y_pred = xgb.predict(X_test)\n",
    "predictions = [round(value) for value in Y_pred]\n",
    "\n",
    "# evaluate predictions\n",
    "accuracy = accuracy_score(y_test, predictions)\n",
    "accuracies['XG Boost'] = accuracy* 100.0\n",
    "print(\"Accuracy: %.2f%%\" % (accuracy * 100.0))"
   ]
  },
  {
   "cell_type": "code",
   "execution_count": 38,
   "id": "0c1aaa83",
   "metadata": {},
   "outputs": [
    {
     "name": "stdout",
     "output_type": "stream",
     "text": [
      "              precision    recall  f1-score   support\n",
      "\n",
      "        ENFJ       0.50      0.21      0.29        73\n",
      "        ENFP       0.57      0.43      0.49       256\n",
      "        ENTJ       0.66      0.28      0.39        90\n",
      "        ENTP       0.58      0.49      0.53       267\n",
      "        ESFJ       1.00      0.06      0.11        17\n",
      "        ESFP       0.00      0.00      0.00        19\n",
      "        ESTJ       0.20      0.07      0.10        15\n",
      "        ESTP       0.62      0.14      0.23        35\n",
      "        INFJ       0.60      0.65      0.62       575\n",
      "        INFP       0.53      0.77      0.63       711\n",
      "        INTJ       0.62      0.64      0.63       430\n",
      "        INTP       0.63      0.67      0.65       514\n",
      "        ISFJ       0.58      0.32      0.41        66\n",
      "        ISFP       0.58      0.36      0.44       107\n",
      "        ISTJ       0.61      0.33      0.43        81\n",
      "        ISTP       0.71      0.54      0.61       131\n",
      "\n",
      "    accuracy                           0.59      3387\n",
      "   macro avg       0.56      0.37      0.41      3387\n",
      "weighted avg       0.59      0.59      0.57      3387\n",
      "\n"
     ]
    }
   ],
   "source": [
    "target_names=[str(x) for x in list_name_target]\n",
    "\n",
    "print(classification_report(y_test, Y_pred, target_names=target_names))"
   ]
  },
  {
   "cell_type": "markdown",
   "id": "d3c495e7",
   "metadata": {},
   "source": [
    "## Using 4 classes"
   ]
  },
  {
   "cell_type": "code",
   "execution_count": 39,
   "id": "72e2c8dc",
   "metadata": {},
   "outputs": [],
   "source": [
    "data = pd.read_csv('mbti_1.csv')"
   ]
  },
  {
   "cell_type": "code",
   "execution_count": 40,
   "id": "37e5fa61",
   "metadata": {},
   "outputs": [],
   "source": [
    "def get_types(row):\n",
    "    t=row['type']\n",
    "\n",
    "    I = 0; N = 0\n",
    "    T = 0; J = 0\n",
    "    \n",
    "    if t[0] == 'I': I = 1\n",
    "    elif t[0] == 'E': I = 0\n",
    "    else: print('I-E not found') \n",
    "        \n",
    "    if t[1] == 'N': N = 1\n",
    "    elif t[1] == 'S': N = 0\n",
    "    else: print('N-S not found')\n",
    "        \n",
    "    if t[2] == 'T': T = 1\n",
    "    elif t[2] == 'F': T = 0\n",
    "    else: print('T-F not found')\n",
    "        \n",
    "    if t[3] == 'J': J = 1\n",
    "    elif t[3] == 'P': J = 0\n",
    "    else: print('J-P not found')\n",
    "    return pd.Series( {'IE':I, 'NS':N , 'TF': T, 'JP': J }) \n",
    "\n",
    "data = data.join(data.apply (lambda row: get_types (row),axis=1))"
   ]
  },
  {
   "cell_type": "code",
   "execution_count": 41,
   "id": "06ad0bf5",
   "metadata": {},
   "outputs": [
    {
     "data": {
      "text/html": [
       "<div>\n",
       "<style scoped>\n",
       "    .dataframe tbody tr th:only-of-type {\n",
       "        vertical-align: middle;\n",
       "    }\n",
       "\n",
       "    .dataframe tbody tr th {\n",
       "        vertical-align: top;\n",
       "    }\n",
       "\n",
       "    .dataframe thead th {\n",
       "        text-align: right;\n",
       "    }\n",
       "</style>\n",
       "<table border=\"1\" class=\"dataframe\">\n",
       "  <thead>\n",
       "    <tr style=\"text-align: right;\">\n",
       "      <th></th>\n",
       "      <th>type</th>\n",
       "      <th>posts</th>\n",
       "      <th>IE</th>\n",
       "      <th>NS</th>\n",
       "      <th>TF</th>\n",
       "      <th>JP</th>\n",
       "    </tr>\n",
       "  </thead>\n",
       "  <tbody>\n",
       "    <tr>\n",
       "      <th>0</th>\n",
       "      <td>INFJ</td>\n",
       "      <td>'http://www.youtube.com/watch?v=qsXHcwe3krw|||...</td>\n",
       "      <td>1</td>\n",
       "      <td>1</td>\n",
       "      <td>0</td>\n",
       "      <td>1</td>\n",
       "    </tr>\n",
       "    <tr>\n",
       "      <th>1</th>\n",
       "      <td>ENTP</td>\n",
       "      <td>'I'm finding the lack of me in these posts ver...</td>\n",
       "      <td>0</td>\n",
       "      <td>1</td>\n",
       "      <td>1</td>\n",
       "      <td>0</td>\n",
       "    </tr>\n",
       "    <tr>\n",
       "      <th>2</th>\n",
       "      <td>INTP</td>\n",
       "      <td>'Good one  _____   https://www.youtube.com/wat...</td>\n",
       "      <td>1</td>\n",
       "      <td>1</td>\n",
       "      <td>1</td>\n",
       "      <td>0</td>\n",
       "    </tr>\n",
       "    <tr>\n",
       "      <th>3</th>\n",
       "      <td>INTJ</td>\n",
       "      <td>'Dear INTP,   I enjoyed our conversation the o...</td>\n",
       "      <td>1</td>\n",
       "      <td>1</td>\n",
       "      <td>1</td>\n",
       "      <td>1</td>\n",
       "    </tr>\n",
       "  </tbody>\n",
       "</table>\n",
       "</div>"
      ],
      "text/plain": [
       "   type                                              posts  IE  NS  TF  JP\n",
       "0  INFJ  'http://www.youtube.com/watch?v=qsXHcwe3krw|||...   1   1   0   1\n",
       "1  ENTP  'I'm finding the lack of me in these posts ver...   0   1   1   0\n",
       "2  INTP  'Good one  _____   https://www.youtube.com/wat...   1   1   1   0\n",
       "3  INTJ  'Dear INTP,   I enjoyed our conversation the o...   1   1   1   1"
      ]
     },
     "execution_count": 41,
     "metadata": {},
     "output_type": "execute_result"
    }
   ],
   "source": [
    "data.head(4)"
   ]
  },
  {
   "cell_type": "markdown",
   "id": "f92f1182",
   "metadata": {},
   "source": [
    "#### preprocessing more simple"
   ]
  },
  {
   "cell_type": "code",
   "execution_count": 42,
   "id": "e60f587d",
   "metadata": {},
   "outputs": [],
   "source": [
    "lemmatiser = WordNetLemmatizer()\n",
    "\n",
    "# Remove the stop words for speed \n",
    "useless_words = stopwords.words(\"english\")\n",
    "\n",
    "# Remove these from the posts\n",
    "unique_type_list = ['INFJ', 'ENTP', 'INTP', 'INTJ', 'ENTJ', 'ENFJ', 'INFP', 'ENFP',\n",
    "       'ISFP', 'ISTP', 'ISFJ', 'ISTJ', 'ESTP', 'ESFP', 'ESTJ', 'ESFJ']\n",
    "unique_type_list = [x.lower() for x in unique_type_list]"
   ]
  },
  {
   "cell_type": "code",
   "execution_count": 43,
   "id": "16ae4d6e",
   "metadata": {},
   "outputs": [],
   "source": [
    "b_Pers = {'I':0, 'E':1, 'N':0, 'S':1, 'F':0, 'T':1, 'J':0, 'P':1}\n",
    "b_Pers_list = [{0:'I', 1:'E'}, {0:'N', 1:'S'}, {0:'F', 1:'T'}, {0:'J', 1:'P'}]\n",
    "\n",
    "def translate_personality(personality):\n",
    "    # transform mbti to binary vector\n",
    "    return [b_Pers[l] for l in personality]\n",
    "\n",
    "#To show result output for personality prediction\n",
    "def translate_back(personality):\n",
    "    # transform binary vector to mbti personality\n",
    "    s = \"\"\n",
    "    for i, l in enumerate(personality):\n",
    "        s += b_Pers_list[i][l]\n",
    "    return s\n",
    "\n",
    "list_personality_bin = np.array([translate_personality(p) for p in data.type])\n"
   ]
  },
  {
   "cell_type": "code",
   "execution_count": 44,
   "id": "3ea5cde4",
   "metadata": {},
   "outputs": [],
   "source": [
    "def cleaning(data, remove_stop_words=True, remove_mbti_profiles=True):\n",
    "    list_personality = []\n",
    "    list_posts = []\n",
    "    len_data = len(data)\n",
    "    i=0\n",
    "  \n",
    "    for row in data.iterrows():\n",
    "        #Remove and clean comments\n",
    "        posts = row[1].posts\n",
    "\n",
    "        #Remove url links \n",
    "        temp = re.sub('http[s]?://(?:[a-zA-Z]|[0-9]|[$-_@.&+]|(?:%[0-9a-fA-F][0-9a-fA-F]))+', ' ', posts)\n",
    "\n",
    "        #Remove Non-words - keep only words\n",
    "        temp = re.sub(\"[^a-zA-Z]\", \" \", temp)\n",
    "\n",
    "        # Remove spaces > 1\n",
    "        temp = re.sub(' +', ' ', temp).lower()\n",
    "\n",
    "        #Remove multiple letter repeating words\n",
    "        temp = re.sub(r'([a-z])\\1{2,}[\\s|\\w]*', '', temp)\n",
    "\n",
    "        #Remove stop words\n",
    "        if remove_stop_words:\n",
    "            temp = \" \".join([lemmatiser.lemmatize(w) for w in temp.split(' ') if w not in useless_words])\n",
    "        else:\n",
    "            temp = \" \".join([lemmatiser.lemmatize(w) for w in temp.split(' ')])\n",
    "\n",
    "        #Remove the classes words \n",
    "        if remove_mbti_profiles:\n",
    "            for t in unique_type_list:\n",
    "                temp = temp.replace(t,\"\")\n",
    "\n",
    "        # transform mbti to binary vector\n",
    "        type_labelized = translate_personality(row[1].type) #or use lab_encoder.transform([row[1].type])[0]\n",
    "        list_personality.append(type_labelized)\n",
    "        # the cleaned data temp is passed here\n",
    "        list_posts.append(temp)\n",
    "\n",
    "    # returns the result\n",
    "    list_posts = np.array(list_posts)\n",
    "    list_personality = np.array(list_personality)\n",
    "    return list_posts, list_personality\n",
    "\n",
    "list_posts, list_personality  = cleaning(data, remove_stop_words=True, remove_mbti_profiles=True)\n"
   ]
  },
  {
   "cell_type": "code",
   "execution_count": 45,
   "id": "c97315e8",
   "metadata": {},
   "outputs": [
    {
     "data": {
      "text/plain": [
       "8675"
      ]
     },
     "execution_count": 45,
     "metadata": {},
     "output_type": "execute_result"
    }
   ],
   "source": [
    "len(list_posts)"
   ]
  },
  {
   "cell_type": "markdown",
   "id": "482cc84c",
   "metadata": {},
   "source": [
    "### Feature engineering"
   ]
  },
  {
   "cell_type": "code",
   "execution_count": 46,
   "id": "9823ac09",
   "metadata": {},
   "outputs": [],
   "source": [
    "# Vectorizing the database posts to a matrix of token counts for the model\n",
    "cntizer = CountVectorizer(analyzer=\"word\", \n",
    "                             max_features=1000) \n",
    "# the feature should be made of word n-gram \n",
    "# Learn the vocabulary dictionary and return term-document matrix\n",
    "X_cnt = cntizer.fit_transform(list_posts)\n",
    "\n",
    "#The enumerate object yields pairs containing a count and a value (useful for obtaining an indexed list)\n",
    "feature_names = list(enumerate(cntizer.get_feature_names()))\n",
    "# print(feature_names[0:10])"
   ]
  },
  {
   "cell_type": "code",
   "execution_count": 47,
   "id": "cfb60e80",
   "metadata": {},
   "outputs": [
    {
     "name": "stdout",
     "output_type": "stream",
     "text": [
      "(8675, 1000)\n"
     ]
    }
   ],
   "source": [
    "tfizer = TfidfTransformer()\n",
    "\n",
    "X_tfidf =  tfizer.fit_transform(X_cnt).toarray()\n",
    "print(X_tfidf.shape)"
   ]
  },
  {
   "cell_type": "markdown",
   "id": "2b88d35a",
   "metadata": {},
   "source": [
    "#### preparing x and y for 4 classes"
   ]
  },
  {
   "cell_type": "code",
   "execution_count": 48,
   "id": "37838583",
   "metadata": {},
   "outputs": [],
   "source": [
    "personality_type = [ \"IE: Introverts (I) / Extroverts (E)\", \"NS: Intuitives (N) / Sensors (S)\", \n",
    "                   \"FT: Feelers (F) / Thinkers (T)\", \"JP: Judgers (J) / Perceivers (P)\"  ]\n"
   ]
  },
  {
   "cell_type": "code",
   "execution_count": 49,
   "id": "95152e8f",
   "metadata": {},
   "outputs": [],
   "source": [
    "X = X_tfidf"
   ]
  },
  {
   "cell_type": "markdown",
   "id": "7156e82e",
   "metadata": {},
   "source": [
    "## training "
   ]
  },
  {
   "cell_type": "code",
   "execution_count": 50,
   "id": "175703b6",
   "metadata": {},
   "outputs": [
    {
     "name": "stdout",
     "output_type": "stream",
     "text": [
      "[14:18:14] WARNING: C:/Users/Administrator/workspace/xgboost-win64_release_1.4.0/src/learner.cc:1095: Starting in XGBoost 1.3.0, the default evaluation metric used with the objective 'binary:logistic' was changed from 'error' to 'logloss'. Explicitly set eval_metric if you'd like to restore the old behavior.\n",
      "IE: Introverts (I) / Extroverts (E) Accuracy: 76.28%\n",
      "              precision    recall  f1-score   support\n",
      "\n",
      "           0       0.79      0.95      0.86      2229\n",
      "           1       0.38      0.11      0.17       634\n",
      "\n",
      "    accuracy                           0.76      2863\n",
      "   macro avg       0.58      0.53      0.52      2863\n",
      "weighted avg       0.70      0.76      0.71      2863\n",
      "\n",
      "[14:18:24] WARNING: C:/Users/Administrator/workspace/xgboost-win64_release_1.4.0/src/learner.cc:1095: Starting in XGBoost 1.3.0, the default evaluation metric used with the objective 'binary:logistic' was changed from 'error' to 'logloss'. Explicitly set eval_metric if you'd like to restore the old behavior.\n",
      "NS: Intuitives (N) / Sensors (S) Accuracy: 85.89%\n",
      "              precision    recall  f1-score   support\n",
      "\n",
      "           0       0.86      0.99      0.92      2463\n",
      "           1       0.42      0.03      0.05       400\n",
      "\n",
      "    accuracy                           0.86      2863\n",
      "   macro avg       0.64      0.51      0.49      2863\n",
      "weighted avg       0.80      0.86      0.80      2863\n",
      "\n",
      "[14:18:35] WARNING: C:/Users/Administrator/workspace/xgboost-win64_release_1.4.0/src/learner.cc:1095: Starting in XGBoost 1.3.0, the default evaluation metric used with the objective 'binary:logistic' was changed from 'error' to 'logloss'. Explicitly set eval_metric if you'd like to restore the old behavior.\n",
      "FT: Feelers (F) / Thinkers (T) Accuracy: 69.68%\n",
      "              precision    recall  f1-score   support\n",
      "\n",
      "           0       0.71      0.76      0.73      1554\n",
      "           1       0.68      0.63      0.65      1309\n",
      "\n",
      "    accuracy                           0.70      2863\n",
      "   macro avg       0.69      0.69      0.69      2863\n",
      "weighted avg       0.70      0.70      0.70      2863\n",
      "\n",
      "[14:18:46] WARNING: C:/Users/Administrator/workspace/xgboost-win64_release_1.4.0/src/learner.cc:1095: Starting in XGBoost 1.3.0, the default evaluation metric used with the objective 'binary:logistic' was changed from 'error' to 'logloss'. Explicitly set eval_metric if you'd like to restore the old behavior.\n",
      "JP: Judgers (J) / Perceivers (P) Accuracy: 62.56%\n",
      "              precision    recall  f1-score   support\n",
      "\n",
      "           0       0.53      0.37      0.43      1119\n",
      "           1       0.66      0.79      0.72      1744\n",
      "\n",
      "    accuracy                           0.63      2863\n",
      "   macro avg       0.60      0.58      0.58      2863\n",
      "weighted avg       0.61      0.63      0.61      2863\n",
      "\n"
     ]
    }
   ],
   "source": [
    "#XGBoost model for MBTI dataset \n",
    "# Individually training each mbti personlity type\n",
    "for l in range(len(personality_type)):\n",
    "    \n",
    "    Y = list_personality[:,l]\n",
    "\n",
    "    # split data into train and test sets\n",
    "    X_train, X_test, y_train, y_test = train_test_split(X, Y, test_size=0.33, random_state=7)\n",
    "\n",
    "    # fit model on training data\n",
    "    model = XGBClassifier()\n",
    "    model.fit(X_train, y_train)\n",
    "\n",
    "    # make predictions for test data\n",
    "    y_pred = model.predict(X_test)\n",
    "    predictions = [round(value) for value in y_pred]\n",
    "    # evaluate predictions\n",
    "    accuracy = accuracy_score(y_test, predictions)\n",
    "    \n",
    "    print(\"%s Accuracy: %.2f%%\" % (personality_type[l], accuracy * 100.0))\n",
    "    target_names=[str(x) for x in range(0,2)]\n",
    "    print(classification_report(y_test, y_pred, target_names=target_names))"
   ]
  },
  {
   "cell_type": "code",
   "execution_count": null,
   "id": "c1eda942",
   "metadata": {},
   "outputs": [],
   "source": []
  }
 ],
 "metadata": {
  "interpreter": {
   "hash": "5e62c04ff4c1e5d565c9ec6b6cb466d26818458001281eaeaf57ec6bfd06c2b3"
  },
  "kernelspec": {
   "display_name": "Python 3",
   "language": "python",
   "name": "python3"
  },
  "language_info": {
   "codemirror_mode": {
    "name": "ipython",
    "version": 3
   },
   "file_extension": ".py",
   "mimetype": "text/x-python",
   "name": "python",
   "nbconvert_exporter": "python",
   "pygments_lexer": "ipython3",
   "version": "3.8.8"
  }
 },
 "nbformat": 4,
 "nbformat_minor": 5
}
